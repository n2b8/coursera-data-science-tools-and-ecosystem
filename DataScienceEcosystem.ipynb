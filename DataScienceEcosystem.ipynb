{
 "cells": [
  {
   "cell_type": "markdown",
   "id": "7fec684b-6aeb-4fa0-9e96-a4ad9ff2adeb",
   "metadata": {
    "tags": []
   },
   "source": [
    "# Data Science Tools and Ecosystem"
   ]
  },
  {
   "cell_type": "markdown",
   "id": "5562d76b-84a9-440a-beca-9a04ddcc27b1",
   "metadata": {},
   "source": [
    "## Author\n",
    "Jake McCaig"
   ]
  },
  {
   "cell_type": "markdown",
   "id": "b5393ba2-8178-45e4-befd-45ed73955793",
   "metadata": {},
   "source": [
    "In this notebook, Data Science Tools and Ecosystem are summarized."
   ]
  },
  {
   "cell_type": "markdown",
   "id": "5020b509-005b-41e9-ba4b-879445abb10b",
   "metadata": {},
   "source": [
    "**Objectives**\n",
    "- List some of the common DS languages\n",
    "- List some of the common DS libraries\n",
    "- List some of the common DS tools\n",
    "- Give a few examples of code execution"
   ]
  },
  {
   "cell_type": "markdown",
   "id": "738e9c2a-0cd8-4174-a0cb-180a7b9c88ce",
   "metadata": {
    "tags": []
   },
   "source": [
    "Some of the popular languages that Data Scientists use are:\n",
    "\n",
    "1. Python\n",
    "2. R\n",
    "3. Julia"
   ]
  },
  {
   "cell_type": "markdown",
   "id": "40e6b65a-f007-4ddd-b7f6-5b7e23b987e3",
   "metadata": {},
   "source": [
    "Some of the commonly used libraries used by Data Scientists include:\n",
    "\n",
    "1. NumPy\n",
    "2. Pandas\n",
    "3. MatPlotLib"
   ]
  },
  {
   "cell_type": "markdown",
   "id": "71920d12-d2be-45be-80cf-1479dff25d14",
   "metadata": {},
   "source": [
    "|Data Science Tools|\n",
    "|------------------|\n",
    "|Git|\n",
    "|Watson Studio|\n",
    "|Hadoop|"
   ]
  },
  {
   "cell_type": "markdown",
   "id": "47947fbe-2b9c-4f23-bf42-523e8ef57b26",
   "metadata": {},
   "source": [
    "### Below are a few examples of evaluating arithmetic expressions in Python."
   ]
  },
  {
   "cell_type": "code",
   "execution_count": 2,
   "id": "63c1e1df-1e32-40e8-9965-e5599489747b",
   "metadata": {
    "tags": []
   },
   "outputs": [
    {
     "data": {
      "text/plain": [
       "17"
      ]
     },
     "execution_count": 2,
     "metadata": {},
     "output_type": "execute_result"
    }
   ],
   "source": [
    "# This is simple arithmetic expression to multiply then add integers.\n",
    "\n",
    "(3*4)+5"
   ]
  },
  {
   "cell_type": "code",
   "execution_count": 3,
   "id": "522b4d17-1961-4791-9552-d8b877c7514e",
   "metadata": {
    "tags": []
   },
   "outputs": [
    {
     "data": {
      "text/plain": [
       "3.3333333333333335"
      ]
     },
     "execution_count": 3,
     "metadata": {},
     "output_type": "execute_result"
    }
   ],
   "source": [
    "# This will convert 200 minutes to hours by dividing by 60.\n",
    "\n",
    "200/60"
   ]
  }
 ],
 "metadata": {
  "kernelspec": {
   "display_name": "Python",
   "language": "python",
   "name": "conda-env-python-py"
  },
  "language_info": {
   "codemirror_mode": {
    "name": "ipython",
    "version": 3
   },
   "file_extension": ".py",
   "mimetype": "text/x-python",
   "name": "python",
   "nbconvert_exporter": "python",
   "pygments_lexer": "ipython3",
   "version": "3.7.12"
  }
 },
 "nbformat": 4,
 "nbformat_minor": 5
}
